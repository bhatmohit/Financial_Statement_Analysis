{
  "nbformat": 4,
  "nbformat_minor": 0,
  "metadata": {
    "colab": {
      "provenance": [],
      "authorship_tag": "ABX9TyOIFBVPq4PHk008lJS08gBA",
      "include_colab_link": true
    },
    "kernelspec": {
      "name": "python3",
      "display_name": "Python 3"
    },
    "language_info": {
      "name": "python"
    }
  },
  "cells": [
    {
      "cell_type": "markdown",
      "metadata": {
        "id": "view-in-github",
        "colab_type": "text"
      },
      "source": [
        "<a href=\"https://colab.research.google.com/github/bhatmohit/Financial_Statement_Analysis/blob/main/MDA.ipynb\" target=\"_parent\"><img src=\"https://colab.research.google.com/assets/colab-badge.svg\" alt=\"Open In Colab\"/></a>"
      ]
    },
    {
      "cell_type": "markdown",
      "source": [
        "Objective: Analyze MD&A data to measure tone and evaluate peformance of the company. Identify firms with positive and negative tone, group the observations and calculate the average future return on assets."
      ],
      "metadata": {
        "id": "NCaQbJpwXMBB"
      }
    },
    {
      "cell_type": "code",
      "source": [
        "#import all the libraries\n",
        "import pandas as pd\n",
        "import re\n",
        "import numpy as np\n"
      ],
      "metadata": {
        "id": "xSB_6jwHXQMe"
      },
      "execution_count": 38,
      "outputs": []
    },
    {
      "cell_type": "code",
      "source": [
        "#Mount Google drive\n",
        "from google.colab import drive\n",
        "drive.mount('/content/drive')"
      ],
      "metadata": {
        "colab": {
          "base_uri": "https://localhost:8080/"
        },
        "id": "WU9RRO3qYCSo",
        "outputId": "d0bc629d-a24a-43d1-8289-8829ad4c8cd3"
      },
      "execution_count": 39,
      "outputs": [
        {
          "output_type": "stream",
          "name": "stdout",
          "text": [
            "Drive already mounted at /content/drive; to attempt to forcibly remount, call drive.mount(\"/content/drive\", force_remount=True).\n"
          ]
        }
      ]
    },
    {
      "cell_type": "code",
      "source": [
        "#Read the pickle file containing sample mda data, and load it to dataframe\n",
        "main_df = pd.read_pickle('drive/MyDrive/MDA_Project/Data/mda_sample.pkl') "
      ],
      "metadata": {
        "id": "3ToQy1z_YPFM"
      },
      "execution_count": 40,
      "outputs": []
    },
    {
      "cell_type": "code",
      "source": [
        "#Load positive and negative words identified by Loughran and McDonald from the excel file  \n",
        "pos_list_df = pd.read_excel('drive/MyDrive/MDA_Project/Data/LoughranMcDonald_SentimentWordLists_2018.xlsx', 'Positive')\n",
        "neg_list_df = pd.read_excel('drive/MyDrive/MDA_Project/Data/LoughranMcDonald_SentimentWordLists_2018.xlsx', 'Negative')"
      ],
      "metadata": {
        "id": "-lsM5dqFqxbe"
      },
      "execution_count": 41,
      "outputs": []
    },
    {
      "cell_type": "code",
      "source": [
        "#Put MD&A data in a list\n",
        "mda_text_list = main_df.loc[:,'txt'].values\n",
        "\n",
        "#Put positive and negative words in corresponding lists\n",
        "pos_list = pos_list_df['Words'].values\n",
        "neg_list = neg_list_df['Words'].values"
      ],
      "metadata": {
        "id": "1bwTmis5sLks"
      },
      "execution_count": 42,
      "outputs": []
    },
    {
      "cell_type": "code",
      "source": [
        "results = []\n",
        "\n",
        "#Loop over each mda\n",
        "for mda in mda_text_list:\n",
        "  \n",
        "  #create variables to store count for each mda \n",
        "  pos = 0\n",
        "  neg = 0\n",
        "  total_count = 0\n",
        "  \n",
        "  #Split mda data into words using re library\n",
        "  mda_words = re.findall('\\w+', mda.upper())\n",
        "  \n",
        "  for word in mda_words:\n",
        "    total_count += 1\n",
        "    if word in pos_list:\n",
        "      pos += 1 \n",
        "    if word in neg_list:\n",
        "      neg += 1\n",
        "  #Calculate net_tone for each mda data    \n",
        "  net_tone = (pos - neg)/total_count\n",
        "  results.append(net_tone)"
      ],
      "metadata": {
        "id": "A1u4jAjpsnHE"
      },
      "execution_count": 43,
      "outputs": []
    },
    {
      "cell_type": "code",
      "source": [
        "main_df['net_tone'] = results\n",
        "main_df = main_df.sort_values('net_tone')\n",
        "main_df.head()"
      ],
      "metadata": {
        "colab": {
          "base_uri": "https://localhost:8080/",
          "height": 206
        },
        "id": "pS2NhwWBvGOn",
        "outputId": "070c583c-8794-4432-ede0-7cf6adcc57bd"
      },
      "execution_count": 44,
      "outputs": [
        {
          "output_type": "execute_result",
          "data": {
            "text/plain": [
              "        gvkey   fyear                                                txt  \\\n",
              "18194  010124  2006.0  ITEM 7MANAGEMENTS DISCUSSION AND ANALYSIS OF F...   \n",
              "560    001274  2007.0  Item 7. Managements\\n    Discussion and Analys...   \n",
              "878    001487  2008.0  Item 7. Managements\\n    Discussion and Analys...   \n",
              "3610   002916  2003.0  Item 7. Managements Discussion and Analysis\\n ...   \n",
              "3562   002889  2003.0  Item 6. Management's  Discussion and Analysis ...   \n",
              "\n",
              "            roa    roa_ny  net_tone  \n",
              "18194  0.007906  0.088232 -0.033584  \n",
              "560    0.049408  0.021977 -0.031345  \n",
              "878   -0.093624 -0.012725 -0.029427  \n",
              "3610  -0.141581  0.032200 -0.024023  \n",
              "3562  -0.088564 -0.043896 -0.022280  "
            ],
            "text/html": [
              "\n",
              "  <div id=\"df-d07670ad-6ab0-49c7-a2bc-ce24f303e7af\">\n",
              "    <div class=\"colab-df-container\">\n",
              "      <div>\n",
              "<style scoped>\n",
              "    .dataframe tbody tr th:only-of-type {\n",
              "        vertical-align: middle;\n",
              "    }\n",
              "\n",
              "    .dataframe tbody tr th {\n",
              "        vertical-align: top;\n",
              "    }\n",
              "\n",
              "    .dataframe thead th {\n",
              "        text-align: right;\n",
              "    }\n",
              "</style>\n",
              "<table border=\"1\" class=\"dataframe\">\n",
              "  <thead>\n",
              "    <tr style=\"text-align: right;\">\n",
              "      <th></th>\n",
              "      <th>gvkey</th>\n",
              "      <th>fyear</th>\n",
              "      <th>txt</th>\n",
              "      <th>roa</th>\n",
              "      <th>roa_ny</th>\n",
              "      <th>net_tone</th>\n",
              "    </tr>\n",
              "  </thead>\n",
              "  <tbody>\n",
              "    <tr>\n",
              "      <th>18194</th>\n",
              "      <td>010124</td>\n",
              "      <td>2006.0</td>\n",
              "      <td>ITEM 7MANAGEMENTS DISCUSSION AND ANALYSIS OF F...</td>\n",
              "      <td>0.007906</td>\n",
              "      <td>0.088232</td>\n",
              "      <td>-0.033584</td>\n",
              "    </tr>\n",
              "    <tr>\n",
              "      <th>560</th>\n",
              "      <td>001274</td>\n",
              "      <td>2007.0</td>\n",
              "      <td>Item 7. Managements\\n    Discussion and Analys...</td>\n",
              "      <td>0.049408</td>\n",
              "      <td>0.021977</td>\n",
              "      <td>-0.031345</td>\n",
              "    </tr>\n",
              "    <tr>\n",
              "      <th>878</th>\n",
              "      <td>001487</td>\n",
              "      <td>2008.0</td>\n",
              "      <td>Item 7. Managements\\n    Discussion and Analys...</td>\n",
              "      <td>-0.093624</td>\n",
              "      <td>-0.012725</td>\n",
              "      <td>-0.029427</td>\n",
              "    </tr>\n",
              "    <tr>\n",
              "      <th>3610</th>\n",
              "      <td>002916</td>\n",
              "      <td>2003.0</td>\n",
              "      <td>Item 7. Managements Discussion and Analysis\\n ...</td>\n",
              "      <td>-0.141581</td>\n",
              "      <td>0.032200</td>\n",
              "      <td>-0.024023</td>\n",
              "    </tr>\n",
              "    <tr>\n",
              "      <th>3562</th>\n",
              "      <td>002889</td>\n",
              "      <td>2003.0</td>\n",
              "      <td>Item 6. Management's  Discussion and Analysis ...</td>\n",
              "      <td>-0.088564</td>\n",
              "      <td>-0.043896</td>\n",
              "      <td>-0.022280</td>\n",
              "    </tr>\n",
              "  </tbody>\n",
              "</table>\n",
              "</div>\n",
              "      <button class=\"colab-df-convert\" onclick=\"convertToInteractive('df-d07670ad-6ab0-49c7-a2bc-ce24f303e7af')\"\n",
              "              title=\"Convert this dataframe to an interactive table.\"\n",
              "              style=\"display:none;\">\n",
              "        \n",
              "  <svg xmlns=\"http://www.w3.org/2000/svg\" height=\"24px\"viewBox=\"0 0 24 24\"\n",
              "       width=\"24px\">\n",
              "    <path d=\"M0 0h24v24H0V0z\" fill=\"none\"/>\n",
              "    <path d=\"M18.56 5.44l.94 2.06.94-2.06 2.06-.94-2.06-.94-.94-2.06-.94 2.06-2.06.94zm-11 1L8.5 8.5l.94-2.06 2.06-.94-2.06-.94L8.5 2.5l-.94 2.06-2.06.94zm10 10l.94 2.06.94-2.06 2.06-.94-2.06-.94-.94-2.06-.94 2.06-2.06.94z\"/><path d=\"M17.41 7.96l-1.37-1.37c-.4-.4-.92-.59-1.43-.59-.52 0-1.04.2-1.43.59L10.3 9.45l-7.72 7.72c-.78.78-.78 2.05 0 2.83L4 21.41c.39.39.9.59 1.41.59.51 0 1.02-.2 1.41-.59l7.78-7.78 2.81-2.81c.8-.78.8-2.07 0-2.86zM5.41 20L4 18.59l7.72-7.72 1.47 1.35L5.41 20z\"/>\n",
              "  </svg>\n",
              "      </button>\n",
              "      \n",
              "  <style>\n",
              "    .colab-df-container {\n",
              "      display:flex;\n",
              "      flex-wrap:wrap;\n",
              "      gap: 12px;\n",
              "    }\n",
              "\n",
              "    .colab-df-convert {\n",
              "      background-color: #E8F0FE;\n",
              "      border: none;\n",
              "      border-radius: 50%;\n",
              "      cursor: pointer;\n",
              "      display: none;\n",
              "      fill: #1967D2;\n",
              "      height: 32px;\n",
              "      padding: 0 0 0 0;\n",
              "      width: 32px;\n",
              "    }\n",
              "\n",
              "    .colab-df-convert:hover {\n",
              "      background-color: #E2EBFA;\n",
              "      box-shadow: 0px 1px 2px rgba(60, 64, 67, 0.3), 0px 1px 3px 1px rgba(60, 64, 67, 0.15);\n",
              "      fill: #174EA6;\n",
              "    }\n",
              "\n",
              "    [theme=dark] .colab-df-convert {\n",
              "      background-color: #3B4455;\n",
              "      fill: #D2E3FC;\n",
              "    }\n",
              "\n",
              "    [theme=dark] .colab-df-convert:hover {\n",
              "      background-color: #434B5C;\n",
              "      box-shadow: 0px 1px 3px 1px rgba(0, 0, 0, 0.15);\n",
              "      filter: drop-shadow(0px 1px 2px rgba(0, 0, 0, 0.3));\n",
              "      fill: #FFFFFF;\n",
              "    }\n",
              "  </style>\n",
              "\n",
              "      <script>\n",
              "        const buttonEl =\n",
              "          document.querySelector('#df-d07670ad-6ab0-49c7-a2bc-ce24f303e7af button.colab-df-convert');\n",
              "        buttonEl.style.display =\n",
              "          google.colab.kernel.accessAllowed ? 'block' : 'none';\n",
              "\n",
              "        async function convertToInteractive(key) {\n",
              "          const element = document.querySelector('#df-d07670ad-6ab0-49c7-a2bc-ce24f303e7af');\n",
              "          const dataTable =\n",
              "            await google.colab.kernel.invokeFunction('convertToInteractive',\n",
              "                                                     [key], {});\n",
              "          if (!dataTable) return;\n",
              "\n",
              "          const docLinkHtml = 'Like what you see? Visit the ' +\n",
              "            '<a target=\"_blank\" href=https://colab.research.google.com/notebooks/data_table.ipynb>data table notebook</a>'\n",
              "            + ' to learn more about interactive tables.';\n",
              "          element.innerHTML = '';\n",
              "          dataTable['output_type'] = 'display_data';\n",
              "          await google.colab.output.renderOutput(dataTable, element);\n",
              "          const docLink = document.createElement('div');\n",
              "          docLink.innerHTML = docLinkHtml;\n",
              "          element.appendChild(docLink);\n",
              "        }\n",
              "      </script>\n",
              "    </div>\n",
              "  </div>\n",
              "  "
            ]
          },
          "metadata": {},
          "execution_count": 44
        }
      ]
    },
    {
      "cell_type": "code",
      "source": [
        "#classify the data based on net_tone. If \n",
        "main_df = (main_df.assign(positive_tone = lambda x: np.where(x['net_tone'] >=0, 1, 0)))\n",
        "main_df.head()"
      ],
      "metadata": {
        "colab": {
          "base_uri": "https://localhost:8080/",
          "height": 206
        },
        "id": "_ROs9r6pslzI",
        "outputId": "3ca8c91c-757e-44ad-cd30-89078d66e5ef"
      },
      "execution_count": 45,
      "outputs": [
        {
          "output_type": "execute_result",
          "data": {
            "text/plain": [
              "        gvkey   fyear                                                txt  \\\n",
              "18194  010124  2006.0  ITEM 7MANAGEMENTS DISCUSSION AND ANALYSIS OF F...   \n",
              "560    001274  2007.0  Item 7. Managements\\n    Discussion and Analys...   \n",
              "878    001487  2008.0  Item 7. Managements\\n    Discussion and Analys...   \n",
              "3610   002916  2003.0  Item 7. Managements Discussion and Analysis\\n ...   \n",
              "3562   002889  2003.0  Item 6. Management's  Discussion and Analysis ...   \n",
              "\n",
              "            roa    roa_ny  net_tone  positive_tone  \n",
              "18194  0.007906  0.088232 -0.033584              0  \n",
              "560    0.049408  0.021977 -0.031345              0  \n",
              "878   -0.093624 -0.012725 -0.029427              0  \n",
              "3610  -0.141581  0.032200 -0.024023              0  \n",
              "3562  -0.088564 -0.043896 -0.022280              0  "
            ],
            "text/html": [
              "\n",
              "  <div id=\"df-630bc67e-d6ef-4345-aa5c-0bac1ac2edd3\">\n",
              "    <div class=\"colab-df-container\">\n",
              "      <div>\n",
              "<style scoped>\n",
              "    .dataframe tbody tr th:only-of-type {\n",
              "        vertical-align: middle;\n",
              "    }\n",
              "\n",
              "    .dataframe tbody tr th {\n",
              "        vertical-align: top;\n",
              "    }\n",
              "\n",
              "    .dataframe thead th {\n",
              "        text-align: right;\n",
              "    }\n",
              "</style>\n",
              "<table border=\"1\" class=\"dataframe\">\n",
              "  <thead>\n",
              "    <tr style=\"text-align: right;\">\n",
              "      <th></th>\n",
              "      <th>gvkey</th>\n",
              "      <th>fyear</th>\n",
              "      <th>txt</th>\n",
              "      <th>roa</th>\n",
              "      <th>roa_ny</th>\n",
              "      <th>net_tone</th>\n",
              "      <th>positive_tone</th>\n",
              "    </tr>\n",
              "  </thead>\n",
              "  <tbody>\n",
              "    <tr>\n",
              "      <th>18194</th>\n",
              "      <td>010124</td>\n",
              "      <td>2006.0</td>\n",
              "      <td>ITEM 7MANAGEMENTS DISCUSSION AND ANALYSIS OF F...</td>\n",
              "      <td>0.007906</td>\n",
              "      <td>0.088232</td>\n",
              "      <td>-0.033584</td>\n",
              "      <td>0</td>\n",
              "    </tr>\n",
              "    <tr>\n",
              "      <th>560</th>\n",
              "      <td>001274</td>\n",
              "      <td>2007.0</td>\n",
              "      <td>Item 7. Managements\\n    Discussion and Analys...</td>\n",
              "      <td>0.049408</td>\n",
              "      <td>0.021977</td>\n",
              "      <td>-0.031345</td>\n",
              "      <td>0</td>\n",
              "    </tr>\n",
              "    <tr>\n",
              "      <th>878</th>\n",
              "      <td>001487</td>\n",
              "      <td>2008.0</td>\n",
              "      <td>Item 7. Managements\\n    Discussion and Analys...</td>\n",
              "      <td>-0.093624</td>\n",
              "      <td>-0.012725</td>\n",
              "      <td>-0.029427</td>\n",
              "      <td>0</td>\n",
              "    </tr>\n",
              "    <tr>\n",
              "      <th>3610</th>\n",
              "      <td>002916</td>\n",
              "      <td>2003.0</td>\n",
              "      <td>Item 7. Managements Discussion and Analysis\\n ...</td>\n",
              "      <td>-0.141581</td>\n",
              "      <td>0.032200</td>\n",
              "      <td>-0.024023</td>\n",
              "      <td>0</td>\n",
              "    </tr>\n",
              "    <tr>\n",
              "      <th>3562</th>\n",
              "      <td>002889</td>\n",
              "      <td>2003.0</td>\n",
              "      <td>Item 6. Management's  Discussion and Analysis ...</td>\n",
              "      <td>-0.088564</td>\n",
              "      <td>-0.043896</td>\n",
              "      <td>-0.022280</td>\n",
              "      <td>0</td>\n",
              "    </tr>\n",
              "  </tbody>\n",
              "</table>\n",
              "</div>\n",
              "      <button class=\"colab-df-convert\" onclick=\"convertToInteractive('df-630bc67e-d6ef-4345-aa5c-0bac1ac2edd3')\"\n",
              "              title=\"Convert this dataframe to an interactive table.\"\n",
              "              style=\"display:none;\">\n",
              "        \n",
              "  <svg xmlns=\"http://www.w3.org/2000/svg\" height=\"24px\"viewBox=\"0 0 24 24\"\n",
              "       width=\"24px\">\n",
              "    <path d=\"M0 0h24v24H0V0z\" fill=\"none\"/>\n",
              "    <path d=\"M18.56 5.44l.94 2.06.94-2.06 2.06-.94-2.06-.94-.94-2.06-.94 2.06-2.06.94zm-11 1L8.5 8.5l.94-2.06 2.06-.94-2.06-.94L8.5 2.5l-.94 2.06-2.06.94zm10 10l.94 2.06.94-2.06 2.06-.94-2.06-.94-.94-2.06-.94 2.06-2.06.94z\"/><path d=\"M17.41 7.96l-1.37-1.37c-.4-.4-.92-.59-1.43-.59-.52 0-1.04.2-1.43.59L10.3 9.45l-7.72 7.72c-.78.78-.78 2.05 0 2.83L4 21.41c.39.39.9.59 1.41.59.51 0 1.02-.2 1.41-.59l7.78-7.78 2.81-2.81c.8-.78.8-2.07 0-2.86zM5.41 20L4 18.59l7.72-7.72 1.47 1.35L5.41 20z\"/>\n",
              "  </svg>\n",
              "      </button>\n",
              "      \n",
              "  <style>\n",
              "    .colab-df-container {\n",
              "      display:flex;\n",
              "      flex-wrap:wrap;\n",
              "      gap: 12px;\n",
              "    }\n",
              "\n",
              "    .colab-df-convert {\n",
              "      background-color: #E8F0FE;\n",
              "      border: none;\n",
              "      border-radius: 50%;\n",
              "      cursor: pointer;\n",
              "      display: none;\n",
              "      fill: #1967D2;\n",
              "      height: 32px;\n",
              "      padding: 0 0 0 0;\n",
              "      width: 32px;\n",
              "    }\n",
              "\n",
              "    .colab-df-convert:hover {\n",
              "      background-color: #E2EBFA;\n",
              "      box-shadow: 0px 1px 2px rgba(60, 64, 67, 0.3), 0px 1px 3px 1px rgba(60, 64, 67, 0.15);\n",
              "      fill: #174EA6;\n",
              "    }\n",
              "\n",
              "    [theme=dark] .colab-df-convert {\n",
              "      background-color: #3B4455;\n",
              "      fill: #D2E3FC;\n",
              "    }\n",
              "\n",
              "    [theme=dark] .colab-df-convert:hover {\n",
              "      background-color: #434B5C;\n",
              "      box-shadow: 0px 1px 3px 1px rgba(0, 0, 0, 0.15);\n",
              "      filter: drop-shadow(0px 1px 2px rgba(0, 0, 0, 0.3));\n",
              "      fill: #FFFFFF;\n",
              "    }\n",
              "  </style>\n",
              "\n",
              "      <script>\n",
              "        const buttonEl =\n",
              "          document.querySelector('#df-630bc67e-d6ef-4345-aa5c-0bac1ac2edd3 button.colab-df-convert');\n",
              "        buttonEl.style.display =\n",
              "          google.colab.kernel.accessAllowed ? 'block' : 'none';\n",
              "\n",
              "        async function convertToInteractive(key) {\n",
              "          const element = document.querySelector('#df-630bc67e-d6ef-4345-aa5c-0bac1ac2edd3');\n",
              "          const dataTable =\n",
              "            await google.colab.kernel.invokeFunction('convertToInteractive',\n",
              "                                                     [key], {});\n",
              "          if (!dataTable) return;\n",
              "\n",
              "          const docLinkHtml = 'Like what you see? Visit the ' +\n",
              "            '<a target=\"_blank\" href=https://colab.research.google.com/notebooks/data_table.ipynb>data table notebook</a>'\n",
              "            + ' to learn more about interactive tables.';\n",
              "          element.innerHTML = '';\n",
              "          dataTable['output_type'] = 'display_data';\n",
              "          await google.colab.output.renderOutput(dataTable, element);\n",
              "          const docLink = document.createElement('div');\n",
              "          docLink.innerHTML = docLinkHtml;\n",
              "          element.appendChild(docLink);\n",
              "        }\n",
              "      </script>\n",
              "    </div>\n",
              "  </div>\n",
              "  "
            ]
          },
          "metadata": {},
          "execution_count": 45
        }
      ]
    },
    {
      "cell_type": "code",
      "source": [
        "#Group data based on positive_tone and compare the results using roa_ny column\n",
        "main_df.groupby(['positive_tone'])['roa_ny'].mean()"
      ],
      "metadata": {
        "colab": {
          "base_uri": "https://localhost:8080/"
        },
        "id": "nnvwzjostXaj",
        "outputId": "0140ec4a-06b0-4c7f-af41-f7f4a1522f34"
      },
      "execution_count": 46,
      "outputs": [
        {
          "output_type": "execute_result",
          "data": {
            "text/plain": [
              "positive_tone\n",
              "0   -0.037617\n",
              "1    0.075141\n",
              "Name: roa_ny, dtype: float64"
            ]
          },
          "metadata": {},
          "execution_count": 46
        }
      ]
    },
    {
      "cell_type": "markdown",
      "source": [
        "We can see that firms with positive tone perform much better than firms with negative tone.\n",
        "\n",
        "roa_ny = Return On Assets (Next Year)"
      ],
      "metadata": {
        "id": "VtNOZdwGvNXz"
      }
    }
  ]
}